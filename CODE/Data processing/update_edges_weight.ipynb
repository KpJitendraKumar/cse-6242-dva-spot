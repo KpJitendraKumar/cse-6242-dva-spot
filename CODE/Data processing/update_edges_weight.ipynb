{
 "cells": [
  {
   "cell_type": "markdown",
   "metadata": {},
   "source": [
    "# Since this file was supposed to run one time, this file is not optimzed and therefore takes long time to run"
   ]
  },
  {
   "cell_type": "code",
   "execution_count": null,
   "metadata": {},
   "outputs": [],
   "source": [
    "import osmnx as ox\n",
    "import networkx as nx\n",
    "import numpy as np\n",
    "import pandas as pd\n",
    "import copy\n",
    "import plotly.graph_objects as go"
   ]
  },
  {
   "cell_type": "markdown",
   "metadata": {},
   "source": [
    "# Getting nodes and edges of the map"
   ]
  },
  {
   "cell_type": "code",
   "execution_count": null,
   "metadata": {},
   "outputs": [],
   "source": [
    "# Enter the bounding box of required map\n",
    "north, east, south, west = 33.93, -84.27, 33.6, -84.64\n",
    "G = ox.graph_from_bbox(north, south, east, west, network_type = 'drive')"
   ]
  },
  {
   "cell_type": "code",
   "execution_count": null,
   "metadata": {},
   "outputs": [],
   "source": [
    "# # read the existing file \n",
    "# G=ox.save_load.load_graphml(filename=\"/Users/apurvpriyam/Documents/CSE6242/Project/data/atlanta.graphml\", folder=None)"
   ]
  },
  {
   "cell_type": "code",
   "execution_count": null,
   "metadata": {},
   "outputs": [],
   "source": [
    "ox.plot_graph(G)"
   ]
  },
  {
   "cell_type": "markdown",
   "metadata": {},
   "source": [
    "# Saving shortest path"
   ]
  },
  {
   "cell_type": "code",
   "execution_count": null,
   "metadata": {},
   "outputs": [],
   "source": [
    "# ox.save_load.save_graphml(G, filename='Atlatna_med.graphml', folder=None, gephi=False)"
   ]
  },
  {
   "cell_type": "code",
   "execution_count": null,
   "metadata": {},
   "outputs": [],
   "source": [
    "len(list(G.edges(data = True)))"
   ]
  },
  {
   "cell_type": "markdown",
   "metadata": {},
   "source": [
    "# Updating the weights of node"
   ]
  },
  {
   "cell_type": "code",
   "execution_count": null,
   "metadata": {},
   "outputs": [],
   "source": [
    "# Read the accident data\n",
    "acc = pd.read_csv('/Users/apurvpriyam/Documents/CSE6242/Project/cse6242AP/inst/shiny/safe_path/data/US_Accidents_fil.csv')\n",
    "acc.head"
   ]
  },
  {
   "cell_type": "code",
   "execution_count": null,
   "metadata": {},
   "outputs": [],
   "source": [
    "# Creating a copy which will be filtered for requried area\n",
    "accsmall = acc\n",
    "accsmall.head"
   ]
  },
  {
   "cell_type": "code",
   "execution_count": null,
   "metadata": {},
   "outputs": [],
   "source": [
    "# filtering for required area\n",
    "accsmall = accsmall[accsmall['City'] == 'Atlanta']\n",
    "accsmall = accsmall.reset_index()\n",
    "print(accsmall.shape)"
   ]
  },
  {
   "cell_type": "code",
   "execution_count": null,
   "metadata": {},
   "outputs": [],
   "source": [
    "# Adding accident attribure which will be updated\n",
    "nx.set_edge_attributes(G, 0, 'accidents')\n",
    "list(G.edges(data=True))[0]"
   ]
  },
  {
   "cell_type": "code",
   "execution_count": null,
   "metadata": {
    "scrolled": true
   },
   "outputs": [],
   "source": [
    "# Creating a dictionary storing number of accidents for each node\n",
    "accidents_node = {}\n",
    "\n",
    "for i in range(accsmall.shape[0]):\n",
    "    if (i % 100 == 0):\n",
    "        print(i)\n",
    "    point = (accsmall['Start_Lat'][i], accsmall['Start_Lng'][i])\n",
    "    node = ox.get_nearest_node(G, point)\n",
    "    severity = accsmall['Severity'][i]\n",
    "    if node in accidents_node:\n",
    "        accidents_node[node]+=severity\n",
    "    else:\n",
    "        accidents_node[node]=severity\n",
    "        \n",
    "# accidents_node\n",
    "\n",
    "accidents_list = []\n",
    "for key in accidents_node:\n",
    "    accidents_list.append(accidents_node[key])\n",
    "    \n",
    "cutoff = np.percentile(accidents_list, 95)\n",
    "\n",
    "print(cutoff)\n",
    "print(max(accidents_list))\n",
    "for key in accidents_node:\n",
    "    if accidents_node[key] > cutoff:\n",
    "        accidents_node[key] = cutoff"
   ]
  },
  {
   "cell_type": "code",
   "execution_count": null,
   "metadata": {
    "scrolled": true
   },
   "outputs": [],
   "source": [
    "# Adding accident count for each edge\n",
    "\n",
    "a = copy.deepcopy(list(G.edges(data=True)))\n",
    "for i in range(len(G.edges)):\n",
    "    if (i % 100 == 0):\n",
    "        print(i)\n",
    "        \n",
    "    st_acc =0\n",
    "    end_acc= 0\n",
    "    if a[i][0] in accidents_node:\n",
    "        st_acc = accidents_node[a[i][0]]\n",
    "        \n",
    "    if a[i][1] in accidents_node:\n",
    "        end_acc = accidents_node[a[i][1]]\n",
    "        \n",
    "    list(G.edges(data=True))[i][2]['accidents'] = st_acc+end_acc\n",
    "        \n",
    "#     for key in accidents_node:\n",
    "#         if (a[i][0] == key) | (a[i][1] == key):\n",
    "#             list(G.edges(data=True))[i][2]['accidents']+=accidents_node[key]"
   ]
  },
  {
   "cell_type": "code",
   "execution_count": null,
   "metadata": {},
   "outputs": [],
   "source": [
    "# acc_sum = 0\n",
    "# for i in range(len(G.edges)):\n",
    "#     acc_sum+=list(G.edges(data=True))[i][2]['accidents']\n",
    "    \n",
    "# print(acc_sum)\n",
    "# sum(accsmall['Severity'])"
   ]
  },
  {
   "cell_type": "markdown",
   "metadata": {},
   "source": [
    "# Creating different accidents weight "
   ]
  },
  {
   "cell_type": "code",
   "execution_count": null,
   "metadata": {},
   "outputs": [],
   "source": [
    "# normalizing the weights and accident\n",
    "\n",
    "# fiding the max of length and accident\n",
    "\n",
    "len_max = 0\n",
    "acc_max = 0\n",
    "\n",
    "a = copy.deepcopy(list(G.edges(data=True)))\n",
    "for i in range(len(G.edges)):\n",
    "    if (i % 100 == 0):\n",
    "        print(i)\n",
    "        \n",
    "    if a[i][2]['length'] > len_max:\n",
    "        len_max = list(G.edges(data=True))[i][2]['length']\n",
    "    if a[i][2]['accidents'] > acc_max:\n",
    "        acc_max = list(G.edges(data=True))[i][2]['accidents']"
   ]
  },
  {
   "cell_type": "code",
   "execution_count": null,
   "metadata": {},
   "outputs": [],
   "source": [
    "print(len_max)\n",
    "print(acc_max)"
   ]
  },
  {
   "cell_type": "code",
   "execution_count": null,
   "metadata": {
    "scrolled": true
   },
   "outputs": [],
   "source": [
    "# normalizing\n",
    "\n",
    "nx.set_edge_attributes(G, 0, 'accidents_25')\n",
    "nx.set_edge_attributes(G, 0, 'accidents_50')\n",
    "nx.set_edge_attributes(G, 0, 'accidents_75')\n",
    "nx.set_edge_attributes(G, 0, 'accidents_norm')\n",
    "\n",
    "for i in range(len(G.edges)):\n",
    "    if (i % 100 == 0):\n",
    "        print(i)\n",
    "        \n",
    "    list(G.edges(data=True))[i][2]['length'] = list(G.edges(data=True))[i][2]['length']/len_max\n",
    "    list(G.edges(data=True))[i][2]['accidents_norm'] = list(G.edges(data=True))[i][2]['accidents']/acc_max\n",
    "    \n",
    "    # adding extra attribute for different weights\n",
    "    list(G.edges(data=True))[i][2]['accidents_25'] = 0.25*list(G.edges(data=True))[i][2]['accidents_norm']+0.75*list(G.edges(data=True))[i][2]['length']\n",
    "    list(G.edges(data=True))[i][2]['accidents_50'] = 0.50*list(G.edges(data=True))[i][2]['accidents_norm']+0.50*list(G.edges(data=True))[i][2]['length']\n",
    "    list(G.edges(data=True))[i][2]['accidents_75'] = 0.75*list(G.edges(data=True))[i][2]['accidents_norm']+0.25*list(G.edges(data=True))[i][2]['length']"
   ]
  },
  {
   "cell_type": "code",
   "execution_count": null,
   "metadata": {},
   "outputs": [],
   "source": [
    "# saving the updated atlanta file\n",
    "ox.save_load.save_graphml(G, filename='Atlanta_accidents_updt.graphml', folder=None, gephi=False)"
   ]
  },
  {
   "cell_type": "markdown",
   "metadata": {},
   "source": [
    "# To check the weights by plotting different paths ~~~"
   ]
  },
  {
   "cell_type": "code",
   "execution_count": null,
   "metadata": {},
   "outputs": [],
   "source": [
    "# Check\n",
    "def node_list_to_path(G, node_list, use_geom=True):\n",
    "    \"\"\"\n",
    "    Given a list of nodes, return a list of lines that together follow the path\n",
    "    defined by the list of nodes.\n",
    "    Parameters\n",
    "    ----------\n",
    "    G : networkx multidigraph\n",
    "    route : list\n",
    "        the route as a list of nodes\n",
    "    use_geom : bool\n",
    "        if True, use the spatial geometry attribute of the edges to draw\n",
    "        geographically accurate edges, rather than just lines straight from node\n",
    "        to node\n",
    "    Returns\n",
    "    -------\n",
    "    lines : list of lines given as pairs ( (x_start, y_start), (x_stop, y_stop) )\n",
    "    \"\"\"\n",
    "    edge_nodes = list(zip(node_list[:-1], node_list[1:]))\n",
    "    lines = []\n",
    "    for u, v in edge_nodes:\n",
    "        # if there are parallel edges, select the shortest in length\n",
    "        data = min(G.get_edge_data(u, v).values(), key=lambda x: x['length'])\n",
    "\n",
    "        # if it has a geometry attribute (ie, a list of line segments)\n",
    "        if 'geometry' in data and use_geom:\n",
    "            # add them to the list of lines to plot\n",
    "            xs, ys = data['geometry'].xy\n",
    "            lines.append(list(zip(xs, ys)))\n",
    "        else:\n",
    "            # if it doesn't have a geometry attribute, the edge is a straight\n",
    "            # line from node to node\n",
    "            x1 = G.nodes[u]['x']\n",
    "            y1 = G.nodes[u]['y']\n",
    "            x2 = G.nodes[v]['x']\n",
    "            y2 = G.nodes[v]['y']\n",
    "            line = [(x1, y1), (x2, y2)]\n",
    "            lines.append(line)\n",
    "    return lines\n",
    "\n"
   ]
  },
  {
   "cell_type": "code",
   "execution_count": null,
   "metadata": {},
   "outputs": [],
   "source": [
    "# define origin/desination points then get the nodes nearest to each\n",
    "# from local to gatech\n",
    "# origin_point = (33.786512, -84.401224)\n",
    "# destination_point = (33.774755, -84.397217)\n",
    "\n",
    "# # path on highway\n",
    "# origin_point = (33.770052, -84.408432)\n",
    "# destination_point = (33.770679, -84.385046)\n",
    "\n",
    "# path across highway\n",
    "origin_point = (33.786474, -84.401242)\n",
    "destination_point = (33.779853, -84.384140)\n",
    "# get the nearest nodes to the locations\n",
    "origin_node = ox.get_nearest_node(G, origin_point)\n",
    "destination_node = ox.get_nearest_node(G, destination_point)\n",
    "origin_node, destination_node"
   ]
  },
  {
   "cell_type": "code",
   "execution_count": null,
   "metadata": {},
   "outputs": [],
   "source": [
    "route = nx.shortest_path(G, origin_node, destination_node, weight = 'accidents_75')"
   ]
  },
  {
   "cell_type": "code",
   "execution_count": null,
   "metadata": {},
   "outputs": [],
   "source": [
    "# getting the list of coordinates from the path (which is a list of nodes)\n",
    "lines = node_list_to_path(G, route)\n",
    "\n",
    "long = []\n",
    "lat = []\n",
    "\n",
    "for i in range(len(lines)):\n",
    "    z = list(lines[i])\n",
    "    l1 = list(list(zip(*z))[0])\n",
    "    l2 = list(list(zip(*z))[1])\n",
    "    for j in range(len(l1)):\n",
    "        long.append(l1[j])\n",
    "        lat.append(l2[j])"
   ]
  },
  {
   "cell_type": "code",
   "execution_count": null,
   "metadata": {},
   "outputs": [],
   "source": [
    "# TODO: Set zoom dynamically\n",
    "\n",
    "fig = go.Figure(go.Scattermapbox(\n",
    "    name = \"Path\",\n",
    "    mode = \"lines\",\n",
    "    lon = long,\n",
    "    lat = lat,\n",
    "    marker = {'size': 10},\n",
    "    line = dict(width = 4.5, color = 'blue'))) #'#1f77b4'),))\n",
    "\n",
    "\n",
    "# Adding current location\n",
    "current_loc = [-84.4006049, 33.7815131]\n",
    "fig.add_trace(go.Scattermapbox(\n",
    "    name = \"Current Location\",\n",
    "    mode = \"markers\",\n",
    "    lon = [current_loc[0]],\n",
    "    lat = [current_loc[1]],\n",
    "    marker = {'size': 12, 'color':'black'}))\n",
    "\n",
    "# adding start and end\n",
    "destination_point \n",
    "fig.add_trace(go.Scattermapbox(\n",
    "    name = \"Start\",\n",
    "    mode = \"markers\",\n",
    "    lon = [origin_point[1]],\n",
    "    lat = [origin_point[0]],\n",
    "    marker = {'size': 12, 'color':\"red\"}))\n",
    "\n",
    "fig.add_trace(go.Scattermapbox(\n",
    "    name = \"Destination\",\n",
    "    mode = \"markers\",\n",
    "    lon = [destination_point[1]],\n",
    "    lat = [destination_point[0]],\n",
    "    marker = {'size': 12, 'color':'green'}))\n",
    "\n",
    "\n",
    "# getting center for plots:\n",
    "lat_center = np.mean(lat)\n",
    "long_center = np.mean(long)\n",
    "\n",
    "fig.update_layout(mapbox_style=\"stamen-terrain\", mapbox_center_lat = 30, mapbox_center_lon=-80)\n",
    "fig.update_layout(margin={\"r\":0,\"t\":0,\"l\":0,\"b\":0},\n",
    "                 mapbox = {\n",
    "                     'center': {'lat': lat_center, 'lon': long_center},  #(33.776770, -84.397)\n",
    "                     #'center': {'lon': -20, 'lat': -20},\n",
    "                     'zoom': 14})\n",
    "\n",
    "fig.show()"
   ]
  },
  {
   "cell_type": "code",
   "execution_count": null,
   "metadata": {},
   "outputs": [],
   "source": []
  }
 ],
 "metadata": {
  "kernelspec": {
   "display_name": "Python 3",
   "language": "python",
   "name": "python3"
  },
  "language_info": {
   "codemirror_mode": {
    "name": "ipython",
    "version": 3
   },
   "file_extension": ".py",
   "mimetype": "text/x-python",
   "name": "python",
   "nbconvert_exporter": "python",
   "pygments_lexer": "ipython3",
   "version": "3.7.4"
  }
 },
 "nbformat": 4,
 "nbformat_minor": 4
}
